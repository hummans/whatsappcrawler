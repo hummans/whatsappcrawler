{
 "cells": [
  {
   "cell_type": "code",
   "execution_count": 2,
   "metadata": {},
   "outputs": [],
   "source": [
    "#!pip install selenium #:("
   ]
  },
  {
   "cell_type": "code",
   "execution_count": null,
   "metadata": {},
   "outputs": [],
   "source": [
    "import selenium\n",
    "from selenium import webdriver\n",
    "from selenium.webdriver.common.keys import Keys\n",
    "url = \"https://web.whatsapp.com\"\n",
    "driver = webdriver.Chrome()\n",
    "driver.get(url)\n",
    "\n",
    "def hubba():\n",
    "    print(\"\\t\\t^^== CODED WITH LOVE FROM CÃLIN ==^^\")\n",
    "    print(\"\\nI WON'T BE HELD RESPONSIBLE FOR WHAT YOU DO WITH THIS\")\n",
    "    print(\"USES SELENIUM TO ACCESS ELEMENTS FROM WEB WHATSAPP\")\n",
    "    print(\"For suggestions mail me -> 2xtaptap@gmail.com\")\n",
    "    \n",
    "def grp():\n",
    "    usr = input('Enter name of usr or grp:')\n",
    "    search(usr)    #takes u inside the group UI\n",
    "    print(\"Working on this:\")\n",
    "    \n",
    "def flood():\n",
    "    usr = input('Enter name of usr or grp:')\n",
    "    msg = input(\"Enter the message to flood or send:\")\n",
    "    count = int(input(\"Enter the number of msgs:\"))\n",
    "    search(usr)\n",
    "    #input(\"just a pause\")\n",
    "    go = int(input(\"Are you sure?\\n0\"))\n",
    "    if(go==0):\n",
    "        for i in range(count):\n",
    "            msg_box = driver.find_element_by_xpath(\"\"\"//*[@id=\"main\"]/footer/div[1]/div[2]\"\"\")\n",
    "            msg_box.send_keys(msg)\n",
    "            button =driver.find_element_by_xpath(\"\"\"//*[@id=\"main\"]/footer/div[1]/div[3]\"\"\")\n",
    "            button.click()\n",
    "    else:\n",
    "        print(\"Phew\")\n",
    "        \n",
    "def search(usr):\n",
    "    #user2 = driver.find_element_by_class_name(\"eiCXe\")\n",
    "    search_box = driver.find_element_by_xpath(\"\"\"//*[@id=\"side\"]/div[1]/div/label/input\"\"\") #finding search box\n",
    "    search_box.click() #clicking search box\n",
    "    search_box.send_keys(usr)  #typing user/grp name\n",
    "    input(\"Waiting 3 seconds to fetch results and press enter:\")\n",
    "    search_box.send_keys(Keys.ENTER)\n",
    "    \n",
    "def fn():\n",
    "    print(\"1.Add members to group\\n2.Flood msg\\n3.Use if Flooding doesnt work:(\\n4.Exit\")\n",
    "    choice = int(input(\"Enter Choice:\"))\n",
    "    if choice==1:\n",
    "        try:\n",
    "            grp()\n",
    "        except:\n",
    "            print(\"\\n___grp_fn error.. recovering___\\n\")\n",
    "    elif choice==2:\n",
    "        try:\n",
    "            flood()\n",
    "            fn()\n",
    "        except:\n",
    "            print(\"\\n___flood_fn error.. recovering___\\n\")\n",
    "            fn()\n",
    "    elif choice==4:\n",
    "        print(\"\\n___Exiting...___\\n\")\n",
    "    else:\n",
    "        print(\"\\n___Invalid choice :(___\\n\")\n",
    "\n",
    "hubba()    \n",
    "fn()        \n"
   ]
  },
  {
   "cell_type": "code",
   "execution_count": null,
   "metadata": {},
   "outputs": [],
   "source": [
    "def grp():\n",
    "    usr = input('Enter name of usr or grp:')\n",
    "    search(usr)    #takes u inside the group UI\n",
    "    print(\"Working on this:\")"
   ]
  },
  {
   "cell_type": "code",
   "execution_count": null,
   "metadata": {},
   "outputs": [],
   "source": [
    "def hubba():\n",
    "    print(\"\\t\\t^^== CODED WITH LOVE FROM CÃLIN ==^^\")\n",
    "    print(\"\\nI WON'T BE HELD RESPONSIBLE FOR WHAT YOU DO WITH THIS\")\n",
    "    print(\"USES SELENIUM TO ACCESS ELEMENTS FROM WEB WHATSAPP\")\n",
    "    print(\"For suggestions mail me -> 2xtaptap@gmail.com\")"
   ]
  }
 ],
 "metadata": {
  "kernelspec": {
   "display_name": "Python 3",
   "language": "python",
   "name": "python3"
  },
  "language_info": {
   "codemirror_mode": {
    "name": "ipython",
    "version": 3
   },
   "file_extension": ".py",
   "mimetype": "text/x-python",
   "name": "python",
   "nbconvert_exporter": "python",
   "pygments_lexer": "ipython3",
   "version": "3.7.3"
  }
 },
 "nbformat": 4,
 "nbformat_minor": 2
}
